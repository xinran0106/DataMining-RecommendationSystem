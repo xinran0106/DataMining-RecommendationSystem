{
 "cells": [
  {
   "cell_type": "markdown",
   "metadata": {},
   "source": [
    "# Imports"
   ]
  },
  {
   "cell_type": "code",
   "execution_count": 1,
   "metadata": {},
   "outputs": [],
   "source": [
    "import pandas as pd\n",
    "import matplotlib.pyplot as plt\n",
    "import seaborn as sns\n",
    "import numpy as np\n",
    "\n",
    "from surprise import Dataset, Reader\n",
    "from surprise.model_selection import cross_validate, train_test_split, GridSearchCV\n",
    "from surprise.prediction_algorithms import SVD, KNNBasic, NMF, SlopeOne, CoClustering\n",
    "from surprise.accuracy import rmse, mae, mse\n",
    "\n",
    "import pickle"
   ]
  },
  {
   "cell_type": "markdown",
   "metadata": {},
   "source": [
    "# Data Read"
   ]
  },
  {
   "cell_type": "code",
   "execution_count": 3,
   "metadata": {},
   "outputs": [
    {
     "data": {
      "text/html": [
       "<div>\n",
       "<style scoped>\n",
       "    .dataframe tbody tr th:only-of-type {\n",
       "        vertical-align: middle;\n",
       "    }\n",
       "\n",
       "    .dataframe tbody tr th {\n",
       "        vertical-align: top;\n",
       "    }\n",
       "\n",
       "    .dataframe thead th {\n",
       "        text-align: right;\n",
       "    }\n",
       "</style>\n",
       "<table border=\"1\" class=\"dataframe\">\n",
       "  <thead>\n",
       "    <tr style=\"text-align: right;\">\n",
       "      <th></th>\n",
       "      <th>userId</th>\n",
       "      <th>movieId</th>\n",
       "      <th>rating</th>\n",
       "    </tr>\n",
       "  </thead>\n",
       "  <tbody>\n",
       "    <tr>\n",
       "      <th>0</th>\n",
       "      <td>1</td>\n",
       "      <td>31</td>\n",
       "      <td>2.5</td>\n",
       "    </tr>\n",
       "    <tr>\n",
       "      <th>1</th>\n",
       "      <td>1</td>\n",
       "      <td>1029</td>\n",
       "      <td>3.0</td>\n",
       "    </tr>\n",
       "    <tr>\n",
       "      <th>2</th>\n",
       "      <td>1</td>\n",
       "      <td>1061</td>\n",
       "      <td>3.0</td>\n",
       "    </tr>\n",
       "    <tr>\n",
       "      <th>3</th>\n",
       "      <td>1</td>\n",
       "      <td>1129</td>\n",
       "      <td>2.0</td>\n",
       "    </tr>\n",
       "    <tr>\n",
       "      <th>4</th>\n",
       "      <td>1</td>\n",
       "      <td>1172</td>\n",
       "      <td>4.0</td>\n",
       "    </tr>\n",
       "  </tbody>\n",
       "</table>\n",
       "</div>"
      ],
      "text/plain": [
       "   userId  movieId  rating\n",
       "0       1       31     2.5\n",
       "1       1     1029     3.0\n",
       "2       1     1061     3.0\n",
       "3       1     1129     2.0\n",
       "4       1     1172     4.0"
      ]
     },
     "execution_count": 3,
     "metadata": {},
     "output_type": "execute_result"
    }
   ],
   "source": [
    "df = pd.read_csv(\"ratings_small.csv\")\n",
    "\n",
    "df.drop(columns=[\"timestamp\"], inplace=True)\n",
    "\n",
    "df.head()"
   ]
  },
  {
   "cell_type": "code",
   "execution_count": 4,
   "metadata": {},
   "outputs": [],
   "source": [
    "df_copy = df.copy()\n",
    "\n",
    "min_rating = df_copy['rating'].min()\n",
    "max_rating = df_copy['rating'].max()\n",
    "\n",
    "reader = Reader(rating_scale=(min_rating, max_rating))\n",
    "data = Dataset.load_from_df(df_copy[['userId','movieId','rating']], reader)\n",
    "\n",
    "trainset, testset = train_test_split(data, test_size=0.20)"
   ]
  },
  {
   "cell_type": "markdown",
   "metadata": {},
   "source": [
    "# Matrix-Based "
   ]
  },
  {
   "cell_type": "markdown",
   "metadata": {},
   "source": [
    "## Optimal SVD"
   ]
  },
  {
   "cell_type": "code",
   "execution_count": 5,
   "metadata": {},
   "outputs": [
    {
     "name": "stdout",
     "output_type": "stream",
     "text": [
      "MSE: 0.7895\n",
      "RMSE: 0.8885\n",
      "MAE:  0.6836\n"
     ]
    },
    {
     "data": {
      "text/plain": [
       "0.6835787917565951"
      ]
     },
     "execution_count": 5,
     "metadata": {},
     "output_type": "execute_result"
    }
   ],
   "source": [
    "best_svd = SVD(n_factors=150, lr_all=0.01, reg_all=0.1)\n",
    "\n",
    "best_svd.fit(trainset)\n",
    "\n",
    "best_svd_predictions = best_svd.test(testset)\n",
    "\n",
    "mse(best_svd_predictions)\n",
    "rmse(best_svd_predictions)\n",
    "mae(best_svd_predictions)"
   ]
  },
  {
   "cell_type": "markdown",
   "metadata": {},
   "source": [
    "# Item-Based"
   ]
  },
  {
   "cell_type": "markdown",
   "metadata": {},
   "source": [
    "## Optimal KNN"
   ]
  },
  {
   "cell_type": "code",
   "execution_count": 6,
   "metadata": {},
   "outputs": [
    {
     "name": "stdout",
     "output_type": "stream",
     "text": [
      "Computing the msd similarity matrix...\n",
      "Done computing similarity matrix.\n",
      "MSE: 0.8691\n",
      "RMSE: 0.9322\n",
      "MAE:  0.7186\n"
     ]
    },
    {
     "data": {
      "text/plain": [
       "0.7185882449284935"
      ]
     },
     "execution_count": 6,
     "metadata": {},
     "output_type": "execute_result"
    }
   ],
   "source": [
    "sim_options = {\n",
    "    'name': 'msd',  \n",
    "    'user_based': False\n",
    "}\n",
    "\n",
    "best_knn = KNNBasic(sim_options=sim_options, k=60, min_k=5, shrinkage=10)\n",
    "best_knn.fit(trainset)\n",
    "\n",
    "best_knn_predictions = best_knn.test(testset)\n",
    "\n",
    "mse(best_knn_predictions)\n",
    "rmse(best_knn_predictions)\n",
    "mae(best_knn_predictions)"
   ]
  },
  {
   "cell_type": "markdown",
   "metadata": {},
   "source": [
    "# Content Based"
   ]
  },
  {
   "cell_type": "markdown",
   "metadata": {},
   "source": [
    "## TF-IDF + Numerical, K-Neighbours Cosine Similarity"
   ]
  },
  {
   "cell_type": "code",
   "execution_count": 16,
   "metadata": {},
   "outputs": [],
   "source": [
    "model_filename = 'nearest_neighbors_model_v2.pkl'\n",
    "\n",
    "with open(model_filename, 'rb') as model_file:\n",
    "    content_based = pickle.load(model_file)\n",
    "\n",
    "array_filename = 'combined_features_array_v2.pkl'\n",
    "\n",
    "with open(array_filename, 'rb') as array_file:\n",
    "    combined_features = pickle.load(array_file)"
   ]
  },
  {
   "cell_type": "code",
   "execution_count": 9,
   "metadata": {},
   "outputs": [],
   "source": [
    "def get_recommendations(movie_index):\n",
    "    distances, indices = content_based.kneighbors([combined_features[movie_index]])\n",
    "    return indices[0][1:].tolist()"
   ]
  },
  {
   "cell_type": "markdown",
   "metadata": {},
   "source": [
    "# Hybrid Recommender"
   ]
  },
  {
   "cell_type": "markdown",
   "metadata": {},
   "source": [
    "## KNN + SVD"
   ]
  },
  {
   "cell_type": "code",
   "execution_count": 10,
   "metadata": {},
   "outputs": [
    {
     "name": "stdout",
     "output_type": "stream",
     "text": [
      "MSE: 0.8237\n",
      "RMSE: 0.9076\n",
      "MAE:  0.6990\n"
     ]
    },
    {
     "data": {
      "text/plain": [
       "0.6989897435284329"
      ]
     },
     "execution_count": 10,
     "metadata": {},
     "output_type": "execute_result"
    }
   ],
   "source": [
    "knn_preds = best_knn_predictions\n",
    "svd_preds = best_svd_predictions\n",
    "\n",
    "knn_weight = 0.7\n",
    "svd_weight = 0.3\n",
    "\n",
    "hybrid_predictions = []\n",
    "\n",
    "for knn_pred, svd_pred in zip(knn_preds, svd_preds):\n",
    "    combined_rating = knn_weight * knn_pred.est + svd_weight * svd_pred.est  \n",
    "    hybrid_predictions.append((knn_pred.uid, knn_pred.iid, knn_pred.r_ui, combined_rating, knn_pred.details))\n",
    "\n",
    "\n",
    "mse(hybrid_predictions)\n",
    "rmse(hybrid_predictions)\n",
    "mae(hybrid_predictions)"
   ]
  },
  {
   "cell_type": "markdown",
   "metadata": {},
   "source": [
    "## KNN + SVD + Popularity"
   ]
  },
  {
   "cell_type": "code",
   "execution_count": 11,
   "metadata": {},
   "outputs": [
    {
     "name": "stdout",
     "output_type": "stream",
     "text": [
      "MSE: 0.7602\n",
      "RMSE: 0.8719\n",
      "MAE:  0.6743\n"
     ]
    },
    {
     "data": {
      "text/plain": [
       "0.6743161610816854"
      ]
     },
     "execution_count": 11,
     "metadata": {},
     "output_type": "execute_result"
    }
   ],
   "source": [
    "knn_preds = best_knn_predictions\n",
    "svd_preds = best_svd_predictions\n",
    "popularity_df = df.groupby('movieId')['rating'].mean().reset_index()\n",
    "\n",
    "knn_weight = 0.3\n",
    "svd_weight = 0.5\n",
    "popularity_weight = 0.2\n",
    "\n",
    "hybrid_predictions = []\n",
    "\n",
    "for knn_pred, svd_pred in zip(knn_preds, svd_preds):\n",
    "    item_id = knn_pred.iid\n",
    "    # Get popularity score for the item\n",
    "    popularity_score = popularity_df.loc[popularity_df['movieId'] == item_id, 'rating'].values[0] if item_id in popularity_df['movieId'].values else 0\n",
    "    # Combine ratings with weights\n",
    "    combined_rating = knn_weight * knn_pred.est + svd_weight * svd_pred.est + popularity_weight * popularity_score\n",
    "    hybrid_predictions.append((knn_pred.uid, knn_pred.iid, knn_pred.r_ui, combined_rating, knn_pred.details))\n",
    "\n",
    "# Evaluate the hybrid model\n",
    "mse(hybrid_predictions)\n",
    "rmse(hybrid_predictions)\n",
    "mae(hybrid_predictions)"
   ]
  },
  {
   "cell_type": "markdown",
   "metadata": {},
   "source": [
    "## SVD + Popularity"
   ]
  },
  {
   "cell_type": "code",
   "execution_count": 12,
   "metadata": {},
   "outputs": [
    {
     "name": "stdout",
     "output_type": "stream",
     "text": [
      "MSE: 0.7612\n",
      "RMSE: 0.8724\n",
      "MAE:  0.6741\n"
     ]
    },
    {
     "data": {
      "text/plain": [
       "0.6741474669336665"
      ]
     },
     "execution_count": 12,
     "metadata": {},
     "output_type": "execute_result"
    }
   ],
   "source": [
    "svd_preds = best_svd_predictions\n",
    "popularity_df = df.groupby('movieId')['rating'].mean().reset_index()\n",
    "\n",
    "svd_weight = 0.8\n",
    "popularity_weight = 0.2\n",
    "\n",
    "hybrid_predictions = []\n",
    "\n",
    "for svd_pred in svd_preds:\n",
    "    item_id = svd_pred.iid\n",
    "    # Get popularity score for the item\n",
    "    popularity_score = popularity_df.loc[popularity_df['movieId'] == item_id, 'rating'].values[0] if item_id in popularity_df['movieId'].values else 0\n",
    "    # Combine ratings with weights\n",
    "    combined_rating =  svd_weight * svd_pred.est + popularity_weight * popularity_score\n",
    "    hybrid_predictions.append((svd_pred.uid, svd_pred.iid, svd_pred.r_ui, combined_rating, svd_pred.details))\n",
    "\n",
    "# Evaluate the hybrid model\n",
    "mse(hybrid_predictions)\n",
    "rmse(hybrid_predictions)\n",
    "mae(hybrid_predictions)"
   ]
  },
  {
   "cell_type": "markdown",
   "metadata": {},
   "source": [
    "# Content + KNN"
   ]
  },
  {
   "cell_type": "code",
   "execution_count": 17,
   "metadata": {},
   "outputs": [
    {
     "data": {
      "text/plain": [
       "[32, 161, 1, 36, 57]"
      ]
     },
     "execution_count": 17,
     "metadata": {},
     "output_type": "execute_result"
    }
   ],
   "source": [
    "def content_knn_hybrid(predictions, user_id, base_item, top_n=5):\n",
    "    \n",
    "    desired_item_ids = get_recommendations(base_item) \n",
    "    \n",
    "    user_predictions = [pred for pred in predictions if pred.uid == user_id]\n",
    "\n",
    "    user_item_predictions = [pred for pred in user_predictions if pred.iid in desired_item_ids]\n",
    "\n",
    "    sorted_predictions = sorted(user_item_predictions, key=lambda x: x.est, reverse=True)\n",
    "    \n",
    "    top_iids = [pred.iid for pred in sorted_predictions[:top_n]]\n",
    "        \n",
    "    return top_iids\n",
    "\n",
    "\n",
    "\n",
    "content_knn_hybrid(predictions=best_knn_predictions,\n",
    "                   user_id=547,\n",
    "                   base_item=20,\n",
    "                   top_n=5)"
   ]
  },
  {
   "cell_type": "code",
   "execution_count": null,
   "metadata": {},
   "outputs": [],
   "source": []
  }
 ],
 "metadata": {
  "kernelspec": {
   "display_name": "Python 3",
   "language": "python",
   "name": "python3"
  },
  "language_info": {
   "codemirror_mode": {
    "name": "ipython",
    "version": 3
   },
   "file_extension": ".py",
   "mimetype": "text/x-python",
   "name": "python",
   "nbconvert_exporter": "python",
   "pygments_lexer": "ipython3",
   "version": "3.11.6"
  }
 },
 "nbformat": 4,
 "nbformat_minor": 2
}
